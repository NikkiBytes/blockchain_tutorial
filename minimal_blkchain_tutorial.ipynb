{
 "cells": [
  {
   "cell_type": "markdown",
   "source": [
    "# Minimal Blockchain Tutorial  \r\n",
    "  \r\n",
    "## Hashing   \r\n",
    "Hashing is a ```function H(x)``` that satisfies the following properties:  \r\n",
    "- same input ```x``` always produce the same output ```H(x)```   \r\n",
    "- different (or even similar) inputs ```x``` should produce different outputs ```H(x)```   \r\n",
    "- computationally easy to get ```H(x)``` from input ```x```, but intractable to reerse the process, i.e. getting the input ```x``` from a known hash ```H```. \r\n"
   ],
   "metadata": {}
  },
  {
   "cell_type": "markdown",
   "source": [],
   "metadata": {}
  }
 ],
 "metadata": {
  "orig_nbformat": 4,
  "language_info": {
   "name": "python"
  }
 },
 "nbformat": 4,
 "nbformat_minor": 2
}